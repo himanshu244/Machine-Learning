{
 "cells": [
  {
   "cell_type": "code",
   "execution_count": 35,
   "metadata": {},
   "outputs": [],
   "source": [
    "import pandas as pd\n",
    "import numpy as np\n",
    "import matplotlib.pyplot as plt\n",
    "d=pd.read_csv(\"Wine.csv\")"
   ]
  },
  {
   "cell_type": "code",
   "execution_count": 36,
   "metadata": {},
   "outputs": [
    {
     "data": {
      "text/html": [
       "<div>\n",
       "<style scoped>\n",
       "    .dataframe tbody tr th:only-of-type {\n",
       "        vertical-align: middle;\n",
       "    }\n",
       "\n",
       "    .dataframe tbody tr th {\n",
       "        vertical-align: top;\n",
       "    }\n",
       "\n",
       "    .dataframe thead th {\n",
       "        text-align: right;\n",
       "    }\n",
       "</style>\n",
       "<table border=\"1\" class=\"dataframe\">\n",
       "  <thead>\n",
       "    <tr style=\"text-align: right;\">\n",
       "      <th></th>\n",
       "      <th>Alcohol</th>\n",
       "      <th>Malic_Acid</th>\n",
       "      <th>Ash</th>\n",
       "      <th>Ash_Alcanity</th>\n",
       "      <th>Magnesium</th>\n",
       "      <th>Total_Phenols</th>\n",
       "      <th>Flavanoids</th>\n",
       "      <th>Nonflavanoid_Phenols</th>\n",
       "      <th>Proanthocyanins</th>\n",
       "      <th>Color_Intensity</th>\n",
       "      <th>Hue</th>\n",
       "      <th>OD280</th>\n",
       "      <th>Proline</th>\n",
       "      <th>Customer_Segment</th>\n",
       "    </tr>\n",
       "  </thead>\n",
       "  <tbody>\n",
       "    <tr>\n",
       "      <th>0</th>\n",
       "      <td>14.23</td>\n",
       "      <td>1.71</td>\n",
       "      <td>2.43</td>\n",
       "      <td>15.6</td>\n",
       "      <td>127</td>\n",
       "      <td>2.80</td>\n",
       "      <td>3.06</td>\n",
       "      <td>0.28</td>\n",
       "      <td>2.29</td>\n",
       "      <td>5.64</td>\n",
       "      <td>1.04</td>\n",
       "      <td>3.92</td>\n",
       "      <td>1065</td>\n",
       "      <td>1</td>\n",
       "    </tr>\n",
       "    <tr>\n",
       "      <th>1</th>\n",
       "      <td>13.20</td>\n",
       "      <td>1.78</td>\n",
       "      <td>2.14</td>\n",
       "      <td>11.2</td>\n",
       "      <td>100</td>\n",
       "      <td>2.65</td>\n",
       "      <td>2.76</td>\n",
       "      <td>0.26</td>\n",
       "      <td>1.28</td>\n",
       "      <td>4.38</td>\n",
       "      <td>1.05</td>\n",
       "      <td>3.40</td>\n",
       "      <td>1050</td>\n",
       "      <td>1</td>\n",
       "    </tr>\n",
       "    <tr>\n",
       "      <th>2</th>\n",
       "      <td>13.16</td>\n",
       "      <td>2.36</td>\n",
       "      <td>2.67</td>\n",
       "      <td>18.6</td>\n",
       "      <td>101</td>\n",
       "      <td>2.80</td>\n",
       "      <td>3.24</td>\n",
       "      <td>0.30</td>\n",
       "      <td>2.81</td>\n",
       "      <td>5.68</td>\n",
       "      <td>1.03</td>\n",
       "      <td>3.17</td>\n",
       "      <td>1185</td>\n",
       "      <td>1</td>\n",
       "    </tr>\n",
       "    <tr>\n",
       "      <th>3</th>\n",
       "      <td>14.37</td>\n",
       "      <td>1.95</td>\n",
       "      <td>2.50</td>\n",
       "      <td>16.8</td>\n",
       "      <td>113</td>\n",
       "      <td>3.85</td>\n",
       "      <td>3.49</td>\n",
       "      <td>0.24</td>\n",
       "      <td>2.18</td>\n",
       "      <td>7.80</td>\n",
       "      <td>0.86</td>\n",
       "      <td>3.45</td>\n",
       "      <td>1480</td>\n",
       "      <td>1</td>\n",
       "    </tr>\n",
       "    <tr>\n",
       "      <th>4</th>\n",
       "      <td>13.24</td>\n",
       "      <td>2.59</td>\n",
       "      <td>2.87</td>\n",
       "      <td>21.0</td>\n",
       "      <td>118</td>\n",
       "      <td>2.80</td>\n",
       "      <td>2.69</td>\n",
       "      <td>0.39</td>\n",
       "      <td>1.82</td>\n",
       "      <td>4.32</td>\n",
       "      <td>1.04</td>\n",
       "      <td>2.93</td>\n",
       "      <td>735</td>\n",
       "      <td>1</td>\n",
       "    </tr>\n",
       "  </tbody>\n",
       "</table>\n",
       "</div>"
      ],
      "text/plain": [
       "   Alcohol  Malic_Acid   Ash  Ash_Alcanity  Magnesium  Total_Phenols  \\\n",
       "0    14.23        1.71  2.43          15.6        127           2.80   \n",
       "1    13.20        1.78  2.14          11.2        100           2.65   \n",
       "2    13.16        2.36  2.67          18.6        101           2.80   \n",
       "3    14.37        1.95  2.50          16.8        113           3.85   \n",
       "4    13.24        2.59  2.87          21.0        118           2.80   \n",
       "\n",
       "   Flavanoids  Nonflavanoid_Phenols  Proanthocyanins  Color_Intensity   Hue  \\\n",
       "0        3.06                  0.28             2.29             5.64  1.04   \n",
       "1        2.76                  0.26             1.28             4.38  1.05   \n",
       "2        3.24                  0.30             2.81             5.68  1.03   \n",
       "3        3.49                  0.24             2.18             7.80  0.86   \n",
       "4        2.69                  0.39             1.82             4.32  1.04   \n",
       "\n",
       "   OD280  Proline  Customer_Segment  \n",
       "0   3.92     1065                 1  \n",
       "1   3.40     1050                 1  \n",
       "2   3.17     1185                 1  \n",
       "3   3.45     1480                 1  \n",
       "4   2.93      735                 1  "
      ]
     },
     "execution_count": 36,
     "metadata": {},
     "output_type": "execute_result"
    }
   ],
   "source": [
    "d.head()"
   ]
  },
  {
   "cell_type": "code",
   "execution_count": 37,
   "metadata": {},
   "outputs": [
    {
     "name": "stdout",
     "output_type": "stream",
     "text": [
      "<class 'pandas.core.frame.DataFrame'>\n",
      "RangeIndex: 178 entries, 0 to 177\n",
      "Data columns (total 14 columns):\n",
      " #   Column                Non-Null Count  Dtype  \n",
      "---  ------                --------------  -----  \n",
      " 0   Alcohol               178 non-null    float64\n",
      " 1   Malic_Acid            178 non-null    float64\n",
      " 2   Ash                   178 non-null    float64\n",
      " 3   Ash_Alcanity          178 non-null    float64\n",
      " 4   Magnesium             178 non-null    int64  \n",
      " 5   Total_Phenols         178 non-null    float64\n",
      " 6   Flavanoids            178 non-null    float64\n",
      " 7   Nonflavanoid_Phenols  178 non-null    float64\n",
      " 8   Proanthocyanins       178 non-null    float64\n",
      " 9   Color_Intensity       178 non-null    float64\n",
      " 10  Hue                   178 non-null    float64\n",
      " 11  OD280                 178 non-null    float64\n",
      " 12  Proline               178 non-null    int64  \n",
      " 13  Customer_Segment      178 non-null    int64  \n",
      "dtypes: float64(11), int64(3)\n",
      "memory usage: 19.6 KB\n"
     ]
    }
   ],
   "source": [
    "d.info()"
   ]
  },
  {
   "cell_type": "code",
   "execution_count": 42,
   "metadata": {},
   "outputs": [
    {
     "data": {
      "text/plain": [
       "array([1, 2, 3], dtype=int64)"
      ]
     },
     "execution_count": 42,
     "metadata": {},
     "output_type": "execute_result"
    }
   ],
   "source": [
    "d['Customer_Segment'].unique()"
   ]
  },
  {
   "cell_type": "code",
   "execution_count": 43,
   "metadata": {},
   "outputs": [],
   "source": [
    "x=d.iloc[:,:13]\n",
    "y=d.iloc[:,13]"
   ]
  },
  {
   "cell_type": "code",
   "execution_count": 44,
   "metadata": {},
   "outputs": [],
   "source": [
    "from sklearn.preprocessing import StandardScaler\n",
    "sc=StandardScaler()\n",
    "x['Proline']=sc.fit_transform(x)"
   ]
  },
  {
   "cell_type": "code",
   "execution_count": 45,
   "metadata": {},
   "outputs": [],
   "source": [
    "from sklearn.model_selection import train_test_split as tts\n",
    "x_train,x_test,y_train,y_test=tts(x,y,test_size=0.2,random_state=2)"
   ]
  },
  {
   "cell_type": "code",
   "execution_count": 46,
   "metadata": {},
   "outputs": [
    {
     "data": {
      "text/plain": [
       "array([0.91372003, 0.0475503 ])"
      ]
     },
     "execution_count": 46,
     "metadata": {},
     "output_type": "execute_result"
    }
   ],
   "source": [
    "from sklearn.decomposition import PCA\n",
    "p=PCA(n_components=2)\n",
    "x_train=p.fit_transform(x_train)\n",
    "x_test=p.transform(x_test)\n",
    "evr=p.explained_variance_ratio_#best variance\n",
    "evr"
   ]
  },
  {
   "cell_type": "code",
   "execution_count": 47,
   "metadata": {},
   "outputs": [
    {
     "data": {
      "text/plain": [
       "(array([[ 4.03897697e+00,  7.10903249e-01],\n",
       "        [-3.08121362e+00,  3.96808452e-01],\n",
       "        [-2.91806269e+01,  3.12982627e+00],\n",
       "        [-1.90738201e+01,  6.24701596e-01],\n",
       "        [-9.83230360e+00, -1.71089308e-01],\n",
       "        [ 1.30596035e+01, -2.12631330e-01],\n",
       "        [ 1.85787181e+00,  3.45069192e+00],\n",
       "        [ 3.39122763e+00, -7.95513620e+00],\n",
       "        [ 6.99806942e+00, -5.03877882e-01],\n",
       "        [-1.21227838e+01, -6.50675974e-01],\n",
       "        [-1.91459882e+01,  2.19623305e+00],\n",
       "        [ 8.10687985e+00, -2.60412488e+00],\n",
       "        [ 2.39925365e+01,  5.17029583e+00],\n",
       "        [-2.07870193e+01, -5.53493044e+00],\n",
       "        [-1.30803558e+01,  1.67595255e+00],\n",
       "        [-7.29167226e+00,  8.68596694e+00],\n",
       "        [-5.07884059e+00,  2.00689227e-01],\n",
       "        [-2.81277089e-02, -1.67778784e+00],\n",
       "        [-1.10139752e+01, -1.88641948e+00],\n",
       "        [ 4.97272505e+00,  8.44109980e-01],\n",
       "        [-9.79399020e+00,  2.46932449e+00],\n",
       "        [ 3.15985062e+00, -2.93527203e+00],\n",
       "        [-1.30752883e+01,  4.49356487e+00],\n",
       "        [-3.02800742e+00, -1.91538037e-01],\n",
       "        [-1.89655409e+01, -3.77869991e+00],\n",
       "        [-9.98393387e+00,  2.90521901e-01],\n",
       "        [-1.29720088e+01,  1.95404856e+00],\n",
       "        [-3.85040201e+00, -3.20698450e+00],\n",
       "        [-1.08393142e+01, -6.72552073e-02],\n",
       "        [ 1.11186607e+01, -3.89619152e+00],\n",
       "        [ 1.69148437e+01,  6.35833476e+00],\n",
       "        [-1.41747550e+01,  1.62338454e+00],\n",
       "        [-4.95837414e+00, -1.90118860e+00],\n",
       "        [ 2.81866660e+01, -3.62072732e+00],\n",
       "        [-4.92857335e+00, -2.85428985e+00],\n",
       "        [-1.09669472e+01, -1.32550784e-01],\n",
       "        [-1.11135284e+01,  1.08378218e+00],\n",
       "        [-1.09309834e+01, -1.72411208e+00],\n",
       "        [ 2.71723481e+01, -3.25117647e+00],\n",
       "        [ 1.87058196e+00,  4.64295562e+00],\n",
       "        [-3.17313006e+00,  5.83764473e+00],\n",
       "        [-1.30363311e+01,  1.31719067e+00],\n",
       "        [ 1.28873997e+01, -8.10153599e-01],\n",
       "        [ 2.04327322e+00,  2.47261390e+00],\n",
       "        [-4.93486817e+00, -9.06929132e-01],\n",
       "        [ 1.61096894e+01,  4.38698294e-01],\n",
       "        [-1.09168530e+01, -8.95409941e+00],\n",
       "        [-1.09701702e+01,  1.47467575e+00],\n",
       "        [-1.89978942e+01,  2.96707491e-01],\n",
       "        [-3.06643767e+00,  1.58935455e+00],\n",
       "        [-7.05259489e+00, -8.31785613e-01],\n",
       "        [-7.01574262e+00,  5.23358363e-01],\n",
       "        [-5.97201373e+00,  2.65121167e+00],\n",
       "        [ 3.03236477e+00, -8.51735074e-01],\n",
       "        [ 1.70731122e+01,  1.03029415e+00],\n",
       "        [ 2.11050289e+01,  5.71126951e-01],\n",
       "        [-1.31212001e+01,  2.17114960e+00],\n",
       "        [-2.02074217e+00, -2.05266108e+00],\n",
       "        [ 2.11191565e+01,  1.36839405e+00],\n",
       "        [ 1.90551690e+00,  1.35183987e+00],\n",
       "        [-2.11571689e+00,  4.01690814e+00],\n",
       "        [-1.11887871e+01,  4.44034307e+00],\n",
       "        [ 2.98950273e+00,  3.71403935e+00],\n",
       "        [-1.12551674e+01,  6.13223417e+00],\n",
       "        [-1.80660060e+01, -1.39193861e+00],\n",
       "        [-5.02610876e+00, -1.72330193e+00],\n",
       "        [ 9.30156749e+00, -3.36311708e+00],\n",
       "        [-1.39570456e+01, -4.01289947e+00],\n",
       "        [-1.39450775e+01, -2.26733466e+00],\n",
       "        [-1.40911624e+01,  9.67623786e-01],\n",
       "        [ 1.07069130e+00, -2.61123693e+00],\n",
       "        [-1.29759047e+01, -1.27846553e+00],\n",
       "        [ 2.91047963e+00,  1.80443279e+00],\n",
       "        [ 1.10020263e+01, -2.29213593e+00],\n",
       "        [ 1.22473060e+00, -8.44033829e+00],\n",
       "        [-2.11887622e+01,  3.77900595e+00],\n",
       "        [ 1.92037469e+01, -3.18141379e+00],\n",
       "        [ 1.71532762e+01, -4.02668966e+00],\n",
       "        [ 8.01447863e+00,  8.37605278e-01],\n",
       "        [-9.17083091e+00,  3.00796982e+00],\n",
       "        [ 3.87099185e+00,  1.16109899e+00],\n",
       "        [-1.10565346e+01, -1.34032028e+00],\n",
       "        [-7.46247276e-01, -4.05428521e+00],\n",
       "        [ 1.98964285e+00, -3.28657223e+00],\n",
       "        [ 1.10273614e+01, -4.82077911e-01],\n",
       "        [ 1.81793765e+01, -3.23321196e+00],\n",
       "        [ 6.15950185e+00, -1.85712610e+00],\n",
       "        [-1.28888478e+01, -4.06906677e+00],\n",
       "        [-1.73351384e+00, -6.10398436e+00],\n",
       "        [-1.51246118e+01,  2.39233725e+00],\n",
       "        [-5.85203611e+00, -3.89183457e+00],\n",
       "        [ 5.07951634e+00, -2.48856123e+00],\n",
       "        [-3.92933159e+00,  1.20602293e+00],\n",
       "        [ 3.47718364e+01,  3.24360459e+00],\n",
       "        [-1.40567937e+01,  2.67440342e+00],\n",
       "        [ 7.90895029e+00,  3.30019306e-01],\n",
       "        [-9.13294902e+00,  2.21767252e+00],\n",
       "        [ 3.96987430e+01,  1.10555622e+01],\n",
       "        [ 8.82015285e+00,  3.10199538e+00],\n",
       "        [ 2.10951673e+01,  1.21594986e+00],\n",
       "        [-1.01262378e+01,  1.76186471e+00],\n",
       "        [ 2.92115363e+01, -5.68149902e+00],\n",
       "        [ 9.26802848e+00, -2.39002683e+00],\n",
       "        [-1.10023010e+01,  2.85447477e+00],\n",
       "        [-1.10764690e+00,  4.55038070e+00],\n",
       "        [-6.68236368e+00, -7.57664082e+00],\n",
       "        [ 1.22912566e+01, -5.67363340e+00],\n",
       "        [-1.30589012e+01, -1.02889424e+00],\n",
       "        [-8.88293160e+00,  2.22405076e+00],\n",
       "        [ 1.98249391e+01,  9.07550235e+00],\n",
       "        [-2.94185179e+00,  4.88737505e+00],\n",
       "        [ 3.18814062e+00, -3.81074960e+00],\n",
       "        [-1.51427803e+01,  1.76940830e+00],\n",
       "        [ 5.19076362e+01, -1.18270830e+00],\n",
       "        [-2.09851280e+01, -6.87788051e-01],\n",
       "        [ 1.29707398e+01,  5.99542429e+00],\n",
       "        [ 9.21437220e+00, -3.07644741e+00],\n",
       "        [ 3.30435639e+01,  5.18861498e-01],\n",
       "        [-9.08901386e-01, -4.23281616e+00],\n",
       "        [-1.31101856e+01, -3.22290755e-01],\n",
       "        [-4.82795922e+00, -2.89946177e+00],\n",
       "        [-1.51069635e+01,  2.46662528e+00],\n",
       "        [ 1.89689439e+01,  1.78881617e+00],\n",
       "        [-1.10560883e+00,  1.39858425e+00],\n",
       "        [-9.52132012e-01, -1.72547553e+00],\n",
       "        [-1.31429680e+01,  9.08029973e-01],\n",
       "        [-1.70755808e+01,  1.01587363e+00],\n",
       "        [-6.92402293e+00,  1.88543902e+00],\n",
       "        [ 7.14221594e+00, -6.65138196e-01],\n",
       "        [-1.19529771e+01, -1.19443450e+00],\n",
       "        [ 2.21811110e+00, -3.96646371e+00],\n",
       "        [-7.80910816e+00,  1.85800609e-01],\n",
       "        [ 6.28697273e+01,  1.16480474e+00],\n",
       "        [ 6.92562611e+00,  2.89919329e+00],\n",
       "        [ 2.20971064e+01, -1.63803713e+00],\n",
       "        [-1.40663246e+01,  4.27952818e-01],\n",
       "        [-2.00667324e+00, -3.30408405e+00],\n",
       "        [ 4.06158027e+00, -1.93855622e+00],\n",
       "        [ 2.10637222e+00, -3.25524307e+00],\n",
       "        [-1.20974409e+01,  3.83076115e+00],\n",
       "        [ 1.31859795e+01, -2.28763597e+00],\n",
       "        [ 6.01077617e+00,  5.09355262e+00]]),\n",
       " array([[-9.80658278e+00, -4.14675076e+00],\n",
       "        [-3.95598218e+00, -2.04209487e+00],\n",
       "        [ 1.20947105e+01,  3.92169145e+00],\n",
       "        [ 2.48376534e+01,  5.86450975e+00],\n",
       "        [ 1.05053869e+00,  5.71300387e-01],\n",
       "        [-7.63726800e+00, -8.90348346e+00],\n",
       "        [-9.60472196e-01, -1.58498802e+00],\n",
       "        [-1.28537579e+01, -1.73407649e-01],\n",
       "        [ 3.90430703e+00,  8.15414975e-01],\n",
       "        [ 4.14850936e+00, -1.06231327e+00],\n",
       "        [ 3.70087626e+01, -3.63292686e+00],\n",
       "        [ 1.42689764e+01, -2.94080591e+00],\n",
       "        [-2.76849335e+00, -5.41343090e+00],\n",
       "        [-7.78744806e-01,  4.97341835e+00],\n",
       "        [ 1.40668349e+01,  2.58870450e+00],\n",
       "        [ 2.72871985e+00,  7.11729893e+00],\n",
       "        [ 2.22141592e+00, -4.92606237e+00],\n",
       "        [ 2.11226974e+00, -1.18280209e+00],\n",
       "        [-2.83677085e+00, -3.99802332e+00],\n",
       "        [-2.12974103e+00,  7.57035196e+00],\n",
       "        [ 2.29606281e+01, -7.53857043e-01],\n",
       "        [ 1.20867170e+01, -5.15284920e-01],\n",
       "        [-1.90232118e+01, -1.09551076e+00],\n",
       "        [-1.04163791e+00, -1.49748123e+00],\n",
       "        [ 1.32539633e+01, -4.43692228e+00],\n",
       "        [ 1.61579809e+01, -2.31024260e+00],\n",
       "        [-1.10384790e+01, -1.81941638e+00],\n",
       "        [-8.94950055e+00, -1.08886955e+00],\n",
       "        [ 1.91512334e+01, -2.93913575e+00],\n",
       "        [-2.98986532e+00,  9.59006542e-03],\n",
       "        [ 6.91433487e+00,  2.44044383e+00],\n",
       "        [ 4.91493821e+00, -3.06687631e-01],\n",
       "        [ 1.30996654e+01,  2.95967674e+00],\n",
       "        [-7.91039302e-01, -8.73946037e-01],\n",
       "        [ 8.06556061e+00, -3.47768002e-01],\n",
       "        [-1.11189059e+01,  1.16181017e+00]]))"
      ]
     },
     "execution_count": 47,
     "metadata": {},
     "output_type": "execute_result"
    }
   ],
   "source": [
    "x_train,x_test"
   ]
  },
  {
   "cell_type": "code",
   "execution_count": 48,
   "metadata": {},
   "outputs": [
    {
     "data": {
      "text/plain": [
       "LogisticRegression()"
      ]
     },
     "execution_count": 48,
     "metadata": {},
     "output_type": "execute_result"
    }
   ],
   "source": [
    "from sklearn.linear_model import LogisticRegression\n",
    "lr=LogisticRegression()\n",
    "lr.fit(x_train,y_train)"
   ]
  },
  {
   "cell_type": "code",
   "execution_count": 49,
   "metadata": {},
   "outputs": [
    {
     "data": {
      "text/plain": [
       "(array([1, 2, 3, 3, 2, 1, 2, 2, 2, 2, 1, 1, 1, 3, 3, 3, 1, 2, 1, 3, 1, 1,\n",
       "        2, 2, 1, 1, 2, 2, 1, 2, 2, 2, 3, 2, 2, 2], dtype=int64),\n",
       " 12     1\n",
       " 23     1\n",
       " 166    3\n",
       " 25     1\n",
       " 35     1\n",
       " 13     1\n",
       " 65     2\n",
       " 171    3\n",
       " 112    2\n",
       " 48     1\n",
       " 78     2\n",
       " 3      1\n",
       " 6      1\n",
       " 158    3\n",
       " 149    3\n",
       " 122    2\n",
       " 42     1\n",
       " 2      1\n",
       " 29     1\n",
       " 157    3\n",
       " 130    3\n",
       " 45     1\n",
       " 106    2\n",
       " 94     2\n",
       " 5      1\n",
       " 53     1\n",
       " 93     2\n",
       " 41     1\n",
       " 54     1\n",
       " 24     1\n",
       " 133    3\n",
       " 64     2\n",
       " 151    3\n",
       " 153    3\n",
       " 28     1\n",
       " 113    2\n",
       " Name: Customer_Segment, dtype: int64)"
      ]
     },
     "execution_count": 49,
     "metadata": {},
     "output_type": "execute_result"
    }
   ],
   "source": [
    "h=lr.predict(x_test)\n",
    "h,y_test"
   ]
  },
  {
   "cell_type": "code",
   "execution_count": 50,
   "metadata": {},
   "outputs": [],
   "source": [
    "from sklearn.metrics import confusion_matrix\n",
    "cm=confusion_matrix(y_test,h)"
   ]
  },
  {
   "cell_type": "code",
   "execution_count": 51,
   "metadata": {
    "scrolled": true
   },
   "outputs": [
    {
     "data": {
      "text/plain": [
       "array([[10,  7,  1],\n",
       "       [ 1,  7,  1],\n",
       "       [ 1,  3,  5]], dtype=int64)"
      ]
     },
     "execution_count": 51,
     "metadata": {},
     "output_type": "execute_result"
    }
   ],
   "source": [
    "cm"
   ]
  },
  {
   "cell_type": "code",
   "execution_count": 52,
   "metadata": {
    "scrolled": true
   },
   "outputs": [
    {
     "data": {
      "text/plain": [
       "(array([[-9.80658278e+00, -4.14675076e+00],\n",
       "        [-3.95598218e+00, -2.04209487e+00],\n",
       "        [ 1.20947105e+01,  3.92169145e+00],\n",
       "        [ 2.48376534e+01,  5.86450975e+00],\n",
       "        [ 1.05053869e+00,  5.71300387e-01],\n",
       "        [-7.63726800e+00, -8.90348346e+00],\n",
       "        [-9.60472196e-01, -1.58498802e+00],\n",
       "        [-1.28537579e+01, -1.73407649e-01],\n",
       "        [ 3.90430703e+00,  8.15414975e-01],\n",
       "        [ 4.14850936e+00, -1.06231327e+00],\n",
       "        [ 3.70087626e+01, -3.63292686e+00],\n",
       "        [ 1.42689764e+01, -2.94080591e+00],\n",
       "        [-2.76849335e+00, -5.41343090e+00],\n",
       "        [-7.78744806e-01,  4.97341835e+00],\n",
       "        [ 1.40668349e+01,  2.58870450e+00],\n",
       "        [ 2.72871985e+00,  7.11729893e+00],\n",
       "        [ 2.22141592e+00, -4.92606237e+00],\n",
       "        [ 2.11226974e+00, -1.18280209e+00],\n",
       "        [-2.83677085e+00, -3.99802332e+00],\n",
       "        [-2.12974103e+00,  7.57035196e+00],\n",
       "        [ 2.29606281e+01, -7.53857043e-01],\n",
       "        [ 1.20867170e+01, -5.15284920e-01],\n",
       "        [-1.90232118e+01, -1.09551076e+00],\n",
       "        [-1.04163791e+00, -1.49748123e+00],\n",
       "        [ 1.32539633e+01, -4.43692228e+00],\n",
       "        [ 1.61579809e+01, -2.31024260e+00],\n",
       "        [-1.10384790e+01, -1.81941638e+00],\n",
       "        [-8.94950055e+00, -1.08886955e+00],\n",
       "        [ 1.91512334e+01, -2.93913575e+00],\n",
       "        [-2.98986532e+00,  9.59006542e-03],\n",
       "        [ 6.91433487e+00,  2.44044383e+00],\n",
       "        [ 4.91493821e+00, -3.06687631e-01],\n",
       "        [ 1.30996654e+01,  2.95967674e+00],\n",
       "        [-7.91039302e-01, -8.73946037e-01],\n",
       "        [ 8.06556061e+00, -3.47768002e-01],\n",
       "        [-1.11189059e+01,  1.16181017e+00]]),\n",
       " 12     1\n",
       " 23     1\n",
       " 166    3\n",
       " 25     1\n",
       " 35     1\n",
       " 13     1\n",
       " 65     2\n",
       " 171    3\n",
       " 112    2\n",
       " 48     1\n",
       " 78     2\n",
       " 3      1\n",
       " 6      1\n",
       " 158    3\n",
       " 149    3\n",
       " 122    2\n",
       " 42     1\n",
       " 2      1\n",
       " 29     1\n",
       " 157    3\n",
       " 130    3\n",
       " 45     1\n",
       " 106    2\n",
       " 94     2\n",
       " 5      1\n",
       " 53     1\n",
       " 93     2\n",
       " 41     1\n",
       " 54     1\n",
       " 24     1\n",
       " 133    3\n",
       " 64     2\n",
       " 151    3\n",
       " 153    3\n",
       " 28     1\n",
       " 113    2\n",
       " Name: Customer_Segment, dtype: int64)"
      ]
     },
     "execution_count": 52,
     "metadata": {},
     "output_type": "execute_result"
    }
   ],
   "source": [
    "from matplotlib.colors import ListedColormap\n",
    "x_set,y_set=x_test,y_test\n",
    "x_set,y_set"
   ]
  },
  {
   "cell_type": "code",
   "execution_count": 58,
   "metadata": {},
   "outputs": [
    {
     "name": "stderr",
     "output_type": "stream",
     "text": [
      "*c* argument looks like a single numeric RGB or RGBA sequence, which should be avoided as value-mapping will have precedence in case its length matches with *x* & *y*.  Please use the *color* keyword-argument or provide a 2-D array with a single row if you intend to specify the same RGB or RGBA value for all points.\n",
      "*c* argument looks like a single numeric RGB or RGBA sequence, which should be avoided as value-mapping will have precedence in case its length matches with *x* & *y*.  Please use the *color* keyword-argument or provide a 2-D array with a single row if you intend to specify the same RGB or RGBA value for all points.\n",
      "*c* argument looks like a single numeric RGB or RGBA sequence, which should be avoided as value-mapping will have precedence in case its length matches with *x* & *y*.  Please use the *color* keyword-argument or provide a 2-D array with a single row if you intend to specify the same RGB or RGBA value for all points.\n"
     ]
    },
    {
     "data": {
      "image/png": "[encoded data removed]",
      "text/plain": [
       "<Figure size 432x288 with 1 Axes>"
      ]
     },
     "metadata": {
      "needs_background": "light"
     },
     "output_type": "display_data"
    }
   ],
   "source": [
    "tx1=np.arange(x_set[:,0].min()-1,x_set[:,0].max()+1,0.01)\n",
    "tx2=np.arange(x_set[:,1].min()-1,x_set[:,1].max()+1,0.01)\n",
    "x1,x2=np.meshgrid(tx1,tx2)\n",
    "ht=lr.predict(np.array([x1.ravel(),x2.ravel()]).T).reshape(x1.shape)\n",
    "plt.contourf(x1,x2,ht,cmap=ListedColormap((\"red\",\"blue\",\"yellow\")))\n",
    "plt.xlim(x1.min(),x1.max())\n",
    "plt.ylim(x2.min(),x2.max())\n",
    "for i,j in enumerate(np.unique(y_set)):\n",
    "    plt.scatter(x_set[y_set==j,0],x_set[y_set==j,1],c=ListedColormap((\"red\",\"blue\",\"yellow\"))(i))"
   ]
  },
  {
   "cell_type": "code",
   "execution_count": 59,
   "metadata": {
    "scrolled": false
   },
   "outputs": [
    {
     "data": {
      "text/plain": [
       "(array([[ 4.03897697e+00,  7.10903249e-01],\n",
       "        [-3.08121362e+00,  3.96808452e-01],\n",
       "        [-2.91806269e+01,  3.12982627e+00],\n",
       "        [-1.90738201e+01,  6.24701596e-01],\n",
       "        [-9.83230360e+00, -1.71089308e-01],\n",
       "        [ 1.30596035e+01, -2.12631330e-01],\n",
       "        [ 1.85787181e+00,  3.45069192e+00],\n",
       "        [ 3.39122763e+00, -7.95513620e+00],\n",
       "        [ 6.99806942e+00, -5.03877882e-01],\n",
       "        [-1.21227838e+01, -6.50675974e-01],\n",
       "        [-1.91459882e+01,  2.19623305e+00],\n",
       "        [ 8.10687985e+00, -2.60412488e+00],\n",
       "        [ 2.39925365e+01,  5.17029583e+00],\n",
       "        [-2.07870193e+01, -5.53493044e+00],\n",
       "        [-1.30803558e+01,  1.67595255e+00],\n",
       "        [-7.29167226e+00,  8.68596694e+00],\n",
       "        [-5.07884059e+00,  2.00689227e-01],\n",
       "        [-2.81277089e-02, -1.67778784e+00],\n",
       "        [-1.10139752e+01, -1.88641948e+00],\n",
       "        [ 4.97272505e+00,  8.44109980e-01],\n",
       "        [-9.79399020e+00,  2.46932449e+00],\n",
       "        [ 3.15985062e+00, -2.93527203e+00],\n",
       "        [-1.30752883e+01,  4.49356487e+00],\n",
       "        [-3.02800742e+00, -1.91538037e-01],\n",
       "        [-1.89655409e+01, -3.77869991e+00],\n",
       "        [-9.98393387e+00,  2.90521901e-01],\n",
       "        [-1.29720088e+01,  1.95404856e+00],\n",
       "        [-3.85040201e+00, -3.20698450e+00],\n",
       "        [-1.08393142e+01, -6.72552073e-02],\n",
       "        [ 1.11186607e+01, -3.89619152e+00],\n",
       "        [ 1.69148437e+01,  6.35833476e+00],\n",
       "        [-1.41747550e+01,  1.62338454e+00],\n",
       "        [-4.95837414e+00, -1.90118860e+00],\n",
       "        [ 2.81866660e+01, -3.62072732e+00],\n",
       "        [-4.92857335e+00, -2.85428985e+00],\n",
       "        [-1.09669472e+01, -1.32550784e-01],\n",
       "        [-1.11135284e+01,  1.08378218e+00],\n",
       "        [-1.09309834e+01, -1.72411208e+00],\n",
       "        [ 2.71723481e+01, -3.25117647e+00],\n",
       "        [ 1.87058196e+00,  4.64295562e+00],\n",
       "        [-3.17313006e+00,  5.83764473e+00],\n",
       "        [-1.30363311e+01,  1.31719067e+00],\n",
       "        [ 1.28873997e+01, -8.10153599e-01],\n",
       "        [ 2.04327322e+00,  2.47261390e+00],\n",
       "        [-4.93486817e+00, -9.06929132e-01],\n",
       "        [ 1.61096894e+01,  4.38698294e-01],\n",
       "        [-1.09168530e+01, -8.95409941e+00],\n",
       "        [-1.09701702e+01,  1.47467575e+00],\n",
       "        [-1.89978942e+01,  2.96707491e-01],\n",
       "        [-3.06643767e+00,  1.58935455e+00],\n",
       "        [-7.05259489e+00, -8.31785613e-01],\n",
       "        [-7.01574262e+00,  5.23358363e-01],\n",
       "        [-5.97201373e+00,  2.65121167e+00],\n",
       "        [ 3.03236477e+00, -8.51735074e-01],\n",
       "        [ 1.70731122e+01,  1.03029415e+00],\n",
       "        [ 2.11050289e+01,  5.71126951e-01],\n",
       "        [-1.31212001e+01,  2.17114960e+00],\n",
       "        [-2.02074217e+00, -2.05266108e+00],\n",
       "        [ 2.11191565e+01,  1.36839405e+00],\n",
       "        [ 1.90551690e+00,  1.35183987e+00],\n",
       "        [-2.11571689e+00,  4.01690814e+00],\n",
       "        [-1.11887871e+01,  4.44034307e+00],\n",
       "        [ 2.98950273e+00,  3.71403935e+00],\n",
       "        [-1.12551674e+01,  6.13223417e+00],\n",
       "        [-1.80660060e+01, -1.39193861e+00],\n",
       "        [-5.02610876e+00, -1.72330193e+00],\n",
       "        [ 9.30156749e+00, -3.36311708e+00],\n",
       "        [-1.39570456e+01, -4.01289947e+00],\n",
       "        [-1.39450775e+01, -2.26733466e+00],\n",
       "        [-1.40911624e+01,  9.67623786e-01],\n",
       "        [ 1.07069130e+00, -2.61123693e+00],\n",
       "        [-1.29759047e+01, -1.27846553e+00],\n",
       "        [ 2.91047963e+00,  1.80443279e+00],\n",
       "        [ 1.10020263e+01, -2.29213593e+00],\n",
       "        [ 1.22473060e+00, -8.44033829e+00],\n",
       "        [-2.11887622e+01,  3.77900595e+00],\n",
       "        [ 1.92037469e+01, -3.18141379e+00],\n",
       "        [ 1.71532762e+01, -4.02668966e+00],\n",
       "        [ 8.01447863e+00,  8.37605278e-01],\n",
       "        [-9.17083091e+00,  3.00796982e+00],\n",
       "        [ 3.87099185e+00,  1.16109899e+00],\n",
       "        [-1.10565346e+01, -1.34032028e+00],\n",
       "        [-7.46247276e-01, -4.05428521e+00],\n",
       "        [ 1.98964285e+00, -3.28657223e+00],\n",
       "        [ 1.10273614e+01, -4.82077911e-01],\n",
       "        [ 1.81793765e+01, -3.23321196e+00],\n",
       "        [ 6.15950185e+00, -1.85712610e+00],\n",
       "        [-1.28888478e+01, -4.06906677e+00],\n",
       "        [-1.73351384e+00, -6.10398436e+00],\n",
       "        [-1.51246118e+01,  2.39233725e+00],\n",
       "        [-5.85203611e+00, -3.89183457e+00],\n",
       "        [ 5.07951634e+00, -2.48856123e+00],\n",
       "        [-3.92933159e+00,  1.20602293e+00],\n",
       "        [ 3.47718364e+01,  3.24360459e+00],\n",
       "        [-1.40567937e+01,  2.67440342e+00],\n",
       "        [ 7.90895029e+00,  3.30019306e-01],\n",
       "        [-9.13294902e+00,  2.21767252e+00],\n",
       "        [ 3.96987430e+01,  1.10555622e+01],\n",
       "        [ 8.82015285e+00,  3.10199538e+00],\n",
       "        [ 2.10951673e+01,  1.21594986e+00],\n",
       "        [-1.01262378e+01,  1.76186471e+00],\n",
       "        [ 2.92115363e+01, -5.68149902e+00],\n",
       "        [ 9.26802848e+00, -2.39002683e+00],\n",
       "        [-1.10023010e+01,  2.85447477e+00],\n",
       "        [-1.10764690e+00,  4.55038070e+00],\n",
       "        [-6.68236368e+00, -7.57664082e+00],\n",
       "        [ 1.22912566e+01, -5.67363340e+00],\n",
       "        [-1.30589012e+01, -1.02889424e+00],\n",
       "        [-8.88293160e+00,  2.22405076e+00],\n",
       "        [ 1.98249391e+01,  9.07550235e+00],\n",
       "        [-2.94185179e+00,  4.88737505e+00],\n",
       "        [ 3.18814062e+00, -3.81074960e+00],\n",
       "        [-1.51427803e+01,  1.76940830e+00],\n",
       "        [ 5.19076362e+01, -1.18270830e+00],\n",
       "        [-2.09851280e+01, -6.87788051e-01],\n",
       "        [ 1.29707398e+01,  5.99542429e+00],\n",
       "        [ 9.21437220e+00, -3.07644741e+00],\n",
       "        [ 3.30435639e+01,  5.18861498e-01],\n",
       "        [-9.08901386e-01, -4.23281616e+00],\n",
       "        [-1.31101856e+01, -3.22290755e-01],\n",
       "        [-4.82795922e+00, -2.89946177e+00],\n",
       "        [-1.51069635e+01,  2.46662528e+00],\n",
       "        [ 1.89689439e+01,  1.78881617e+00],\n",
       "        [-1.10560883e+00,  1.39858425e+00],\n",
       "        [-9.52132012e-01, -1.72547553e+00],\n",
       "        [-1.31429680e+01,  9.08029973e-01],\n",
       "        [-1.70755808e+01,  1.01587363e+00],\n",
       "        [-6.92402293e+00,  1.88543902e+00],\n",
       "        [ 7.14221594e+00, -6.65138196e-01],\n",
       "        [-1.19529771e+01, -1.19443450e+00],\n",
       "        [ 2.21811110e+00, -3.96646371e+00],\n",
       "        [-7.80910816e+00,  1.85800609e-01],\n",
       "        [ 6.28697273e+01,  1.16480474e+00],\n",
       "        [ 6.92562611e+00,  2.89919329e+00],\n",
       "        [ 2.20971064e+01, -1.63803713e+00],\n",
       "        [-1.40663246e+01,  4.27952818e-01],\n",
       "        [-2.00667324e+00, -3.30408405e+00],\n",
       "        [ 4.06158027e+00, -1.93855622e+00],\n",
       "        [ 2.10637222e+00, -3.25524307e+00],\n",
       "        [-1.20974409e+01,  3.83076115e+00],\n",
       "        [ 1.31859795e+01, -2.28763597e+00],\n",
       "        [ 6.01077617e+00,  5.09355262e+00]]),\n",
       " 154    3\n",
       " 120    2\n",
       " 89     2\n",
       " 92     2\n",
       " 156    3\n",
       "       ..\n",
       " 43     1\n",
       " 22     1\n",
       " 72     2\n",
       " 15     1\n",
       " 168    3\n",
       " Name: Customer_Segment, Length: 142, dtype: int64)"
      ]
     },
     "execution_count": 59,
     "metadata": {},
     "output_type": "execute_result"
    }
   ],
   "source": [
    "from matplotlib.colors import ListedColormap\n",
    "x_set,y_set=x_train,y_train\n",
    "x_set,y_set"
   ]
  },
  {
   "cell_type": "code",
   "execution_count": 60,
   "metadata": {},
   "outputs": [
    {
     "name": "stderr",
     "output_type": "stream",
     "text": [
      "*c* argument looks like a single numeric RGB or RGBA sequence, which should be avoided as value-mapping will have precedence in case its length matches with *x* & *y*.  Please use the *color* keyword-argument or provide a 2-D array with a single row if you intend to specify the same RGB or RGBA value for all points.\n",
      "*c* argument looks like a single numeric RGB or RGBA sequence, which should be avoided as value-mapping will have precedence in case its length matches with *x* & *y*.  Please use the *color* keyword-argument or provide a 2-D array with a single row if you intend to specify the same RGB or RGBA value for all points.\n",
      "*c* argument looks like a single numeric RGB or RGBA sequence, which should be avoided as value-mapping will have precedence in case its length matches with *x* & *y*.  Please use the *color* keyword-argument or provide a 2-D array with a single row if you intend to specify the same RGB or RGBA value for all points.\n"
     ]
    },
    {
     "data": {
      "image/png": "[encoded data removed]",
      "text/plain": [
       "<Figure size 432x288 with 1 Axes>"
      ]
     },
     "metadata": {
      "needs_background": "light"
     },
     "output_type": "display_data"
    }
   ],
   "source": [
    "tx1=np.arange(x_set[:,0].min()-1,x_set[:,0].max()+1,0.01)\n",
    "tx2=np.arange(x_set[:,1].min()-1,x_set[:,1].max()+1,0.01)\n",
    "x1,x2=np.meshgrid(tx1,tx2)\n",
    "ht=lr.predict(np.array([x1.ravel(),x2.ravel()]).T).reshape(x1.shape)\n",
    "plt.contourf(x1,x2,ht,cmap=ListedColormap((\"red\",\"blue\",\"yellow\")))\n",
    "plt.xlim(x1.min(),x1.max())\n",
    "plt.ylim(x2.min(),x2.max())\n",
    "for i,j in enumerate(np.unique(y_set)):\n",
    "    plt.scatter(x_set[y_set==j,0],x_set[y_set==j,1],c=ListedColormap((\"red\",\"blue\",\"yellow\"))(i))"
   ]
  },
  {
   "cell_type": "code",
   "execution_count": 14,
   "metadata": {},
   "outputs": [],
   "source": [
    "from sklearn.model_selection import train_test_split as tts\n",
    "x_train,x_test,y_train,y_test=tts(x,y,test_size=0.2,random_state=2)"
   ]
  },
  {
   "cell_type": "code",
   "execution_count": 15,
   "metadata": {},
   "outputs": [
    {
     "name": "stderr",
     "output_type": "stream",
     "text": [
      "c:\\users\\runnu\\appdata\\local\\programs\\python\\python36\\lib\\site-packages\\sklearn\\linear_model\\_logistic.py:765: ConvergenceWarning: lbfgs failed to converge (status=1):\n",
      "STOP: TOTAL NO. of ITERATIONS REACHED LIMIT.\n",
      "\n",
      "Increase the number of iterations (max_iter) or scale the data as shown in:\n",
      "    https://scikit-learn.org/stable/modules/preprocessing.html\n",
      "Please also refer to the documentation for alternative solver options:\n",
      "    https://scikit-learn.org/stable/modules/linear_model.html#logistic-regression\n",
      "  extra_warning_msg=_LOGISTIC_SOLVER_CONVERGENCE_MSG)\n"
     ]
    },
    {
     "data": {
      "text/plain": [
       "LogisticRegression()"
      ]
     },
     "execution_count": 15,
     "metadata": {},
     "output_type": "execute_result"
    }
   ],
   "source": [
    "from sklearn.linear_model import LogisticRegression\n",
    "lr=LogisticRegression()\n",
    "lr.fit(x_train,y_train)"
   ]
  },
  {
   "cell_type": "code",
   "execution_count": 16,
   "metadata": {},
   "outputs": [
    {
     "data": {
      "text/plain": [
       "(array([1, 2, 3, 2, 1, 1, 2, 3, 2, 1, 2, 1, 1, 3, 3, 2, 1, 1, 1, 3, 2, 1,\n",
       "        2, 2, 1, 1, 2, 1, 1, 2, 3, 2, 3, 3, 1, 2], dtype=int64),\n",
       " 12     1\n",
       " 23     1\n",
       " 166    3\n",
       " 25     1\n",
       " 35     1\n",
       " 13     1\n",
       " 65     2\n",
       " 171    3\n",
       " 112    2\n",
       " 48     1\n",
       " 78     2\n",
       " 3      1\n",
       " 6      1\n",
       " 158    3\n",
       " 149    3\n",
       " 122    2\n",
       " 42     1\n",
       " 2      1\n",
       " 29     1\n",
       " 157    3\n",
       " 130    3\n",
       " 45     1\n",
       " 106    2\n",
       " 94     2\n",
       " 5      1\n",
       " 53     1\n",
       " 93     2\n",
       " 41     1\n",
       " 54     1\n",
       " 24     1\n",
       " 133    3\n",
       " 64     2\n",
       " 151    3\n",
       " 153    3\n",
       " 28     1\n",
       " 113    2\n",
       " Name: Customer_Segment, dtype: int64)"
      ]
     },
     "execution_count": 16,
     "metadata": {},
     "output_type": "execute_result"
    }
   ],
   "source": [
    "h=lr.predict(x_test)\n",
    "h,y_test"
   ]
  },
  {
   "cell_type": "code",
   "execution_count": 17,
   "metadata": {},
   "outputs": [
    {
     "data": {
      "text/plain": [
       "array([[15,  3,  0],\n",
       "       [ 0,  9,  0],\n",
       "       [ 0,  1,  8]], dtype=int64)"
      ]
     },
     "execution_count": 17,
     "metadata": {},
     "output_type": "execute_result"
    }
   ],
   "source": [
    "from sklearn.metrics import confusion_matrix\n",
    "cm=confusion_matrix(y_test,h)\n",
    "cm"
   ]
  },
  {
   "cell_type": "code",
   "execution_count": null,
   "metadata": {},
   "outputs": [],
   "source": []
  },
  {
   "cell_type": "code",
   "execution_count": null,
   "metadata": {},
   "outputs": [],
   "source": []
  }
 ],
 "metadata": {
  "kernelspec": {
   "display_name": "Python 3",
   "language": "python",
   "name": "python3"
  },
  "language_info": {
   "codemirror_mode": {
    "name": "ipython",
    "version": 3
   },
   "file_extension": ".py",
   "mimetype": "text/x-python",
   "name": "python",
   "nbconvert_exporter": "python",
   "pygments_lexer": "ipython3",
   "version": "3.6.5"
  }
 },
 "nbformat": 4,
 "nbformat_minor": 4
}
