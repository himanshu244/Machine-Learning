{
 "cells": [
  {
   "cell_type": "code",
   "execution_count": 3,
   "metadata": {},
   "outputs": [],
   "source": [
    "transactions=[['A', 'B'], ['B', 'C']]\n",
    "num_transaction = 0\n",
    "items = []\n",
    "transaction_index_map = {}\n",
    "\n",
    "def add_transaction(transaction):\n",
    "        global num_transaction\n",
    "        \"\"\"\n",
    "        Add a transaction.\n",
    "\n",
    "        Arguments:\n",
    "            transaction -- A transaction as an iterable object (eg. ['A', 'B']).\n",
    "        \"\"\"\n",
    "        for item in transaction:\n",
    "            if item not in transaction_index_map:\n",
    "                items.append(item)\n",
    "                transaction_index_map[item] = set()\n",
    "            transaction_index_map[item].add(num_transaction)\n",
    "        num_transaction += 1\n",
    "\n",
    "for transaction in transactions:\n",
    "    add_transaction(transaction)\n"
   ]
  },
  {
   "cell_type": "code",
   "execution_count": 4,
   "metadata": {},
   "outputs": [
    {
     "data": {
      "text/plain": [
       "(['A', 'B', 'C'], 2, {'A': {0}, 'B': {0, 1}, 'C': {1}})"
      ]
     },
     "execution_count": 4,
     "metadata": {},
     "output_type": "execute_result"
    }
   ],
   "source": [
    "items,num_transaction,transaction_index_map"
   ]
  },
  {
   "cell_type": "code",
   "execution_count": null,
   "metadata": {},
   "outputs": [],
   "source": [
    "transactions=[['A', 'B'], ['B', 'C']]"
   ]
  }
 ],
 "metadata": {
  "kernelspec": {
   "display_name": "Python 3",
   "language": "python",
   "name": "python3"
  },
  "language_info": {
   "codemirror_mode": {
    "name": "ipython",
    "version": 3
   },
   "file_extension": ".py",
   "mimetype": "text/x-python",
   "name": "python",
   "nbconvert_exporter": "python",
   "pygments_lexer": "ipython3",
   "version": "3.6.5"
  }
 },
 "nbformat": 4,
 "nbformat_minor": 4
}
