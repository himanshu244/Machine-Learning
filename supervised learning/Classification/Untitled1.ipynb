{
 "cells": [
  {
   "cell_type": "code",
   "execution_count": 14,
   "metadata": {},
   "outputs": [],
   "source": [
    "import pandas as pd \n",
    "import numpy as np \n",
    "from sklearn.svm import LinearSVC\n",
    "from sklearn.preprocessing import StandardScaler\n",
    "from sklearn.datasets import load_iris\n",
    "import matplotlib.pyplot as plt \n",
    "%matplotlib inline"
   ]
  },
  {
   "cell_type": "markdown",
   "metadata": {},
   "source": [
    "# from library"
   ]
  },
  {
   "cell_type": "code",
   "execution_count": 16,
   "metadata": {},
   "outputs": [
    {
     "data": {
      "image/png": "[encoded data removed]",
      "text/plain": [
       "<Figure size 720x360 with 1 Axes>"
      ]
     },
     "metadata": {
      "needs_background": "light"
     },
     "output_type": "display_data"
    }
   ],
   "source": [
    "from sklearn.datasets import make_moons\n",
    "from mlxtend.plotting import plot_decision_regions\n",
    "from sklearn.preprocessing import StandardScaler\n",
    "from sklearn.svm import SVC\n",
    "# loading the data\n",
    "X, y = make_moons(noise=0.3, random_state=0)\n",
    "\n",
    "# scale features\n",
    "scaler = StandardScaler()\n",
    "X_scaled = scaler.fit_transform(X)\n",
    "\n",
    "# fit the model with polynomial kernel\n",
    "svc_clf = SVC(kernel=\"poly\", degree=3, C=5, coef0=1)\n",
    "svc_clf.fit(X_scaled, y)\n",
    "\n",
    "# plotting the decision regions\n",
    "plt.figure(figsize=(10, 5))\n",
    "plot_decision_regions(X_scaled, y, clf=svc_clf)\n",
    "\n",
    "plt.show()"
   ]
  },
  {
   "cell_type": "code",
   "execution_count": 20,
   "metadata": {},
   "outputs": [
    {
     "ename": "NameError",
     "evalue": "name 'gradient_descent' is not defined",
     "output_type": "error",
     "traceback": [
      "\u001b[1;31m---------------------------------------------------------------------------\u001b[0m",
      "\u001b[1;31mNameError\u001b[0m                                 Traceback (most recent call last)",
      "\u001b[1;32m<ipython-input-20-fd7e6db26ca7>\u001b[0m in \u001b[0;36m<module>\u001b[1;34m\u001b[0m\n\u001b[0;32m     28\u001b[0m                 \u001b[0mb\u001b[0m \u001b[1;33m-=\u001b[0m \u001b[0mlearning_rate\u001b[0m \u001b[1;33m*\u001b[0m \u001b[0mt\u001b[0m\u001b[1;33m[\u001b[0m\u001b[0midx\u001b[0m\u001b[1;33m]\u001b[0m\u001b[1;33m\u001b[0m\u001b[0m\n\u001b[0;32m     29\u001b[0m     \u001b[1;32mreturn\u001b[0m \u001b[0mw\u001b[0m\u001b[1;33m,\u001b[0m \u001b[0mb\u001b[0m\u001b[1;33m\u001b[0m\u001b[0m\n\u001b[1;32m---> 30\u001b[1;33m \u001b[0mw\u001b[0m\u001b[1;33m,\u001b[0m \u001b[0mb\u001b[0m \u001b[1;33m=\u001b[0m \u001b[0mgradient_descent\u001b[0m\u001b[1;33m(\u001b[0m\u001b[0mX\u001b[0m\u001b[1;33m,\u001b[0m \u001b[0my\u001b[0m\u001b[1;33m)\u001b[0m\u001b[1;33m\u001b[0m\u001b[0m\n\u001b[0m\u001b[0;32m     31\u001b[0m \u001b[1;32mdef\u001b[0m \u001b[0mpredict\u001b[0m\u001b[1;33m(\u001b[0m\u001b[0mX\u001b[0m\u001b[1;33m,\u001b[0m \u001b[0mw\u001b[0m\u001b[1;33m,\u001b[0m \u001b[0mb\u001b[0m\u001b[1;33m)\u001b[0m\u001b[1;33m:\u001b[0m\u001b[1;33m\u001b[0m\u001b[0m\n\u001b[0;32m     32\u001b[0m     \"\"\"\n",
      "\u001b[1;31mNameError\u001b[0m: name 'gradient_descent' is not defined"
     ]
    }
   ],
   "source": [
    "from sklearn.datasets import make_blobs \n",
    "\n",
    "# generating a dataset\n",
    "X, y = make_blobs(n_samples=50, n_features=2, centers=2, cluster_std=1.05, random_state=23)\n",
    "def initialize_param(X): \n",
    "    \"\"\"\n",
    "    Initializing the weight vector and bias\n",
    "    \"\"\"\n",
    "    _, n_features = X.shape\n",
    "    w = np.zeros(n_features)\n",
    "    b = 0 \n",
    "    return w, b\n",
    "def optimization(X, y, learning_rate=0.001, lambd=0.01, n_iters=1000): \n",
    "    \"\"\"\n",
    "    finding value of w and b that make the margin as large as possible while\n",
    "    avoiding violations (Hard margin classification)\n",
    "    \"\"\"\n",
    "    t = np.where(y <= 0, -1, 1)\n",
    "    w, b = initialize_param(X)\n",
    "    \n",
    "    for _ in range(n_iters): \n",
    "        for idx, x_i in enumerate(X): \n",
    "            condition = t[idx] * (np.dot(x_i, w) + b) >= 1\n",
    "            if condition: \n",
    "                w -= learning_rate * (2 * lambd * w)\n",
    "            else: \n",
    "                w -= learning_rate * (2 * lambd *  w - np.dot(x_i, t[idx]))\n",
    "                b -= learning_rate * t[idx]\n",
    "    return w, b\n",
    "w, b = gradient_descent(X, y)\n",
    "def predict(X, w, b):\n",
    "    \"\"\"\n",
    "    classify examples\n",
    "    \"\"\"\n",
    "    decision = np.dot(X, w) + b\n",
    "    return np.sign(decision)\n",
    "# my implementation visualization\n",
    "visualize_svm()\n",
    "\n",
    "# convert X to DataFrame to easily copy code\n",
    "X = pd.DataFrame(data=X,\n",
    "                 columns= [\"x1\", \"x2\"])\n",
    "\n",
    "# fit the model with hard margin (Large C parameter)\n",
    "svc = LinearSVC(loss=\"hinge\", C=1000)\n",
    "svc.fit(X, y)\n",
    "\n",
    "# sklearn implementation visualization\n",
    "plot_svm()"
   ]
  },
  {
   "cell_type": "code",
   "execution_count": null,
   "metadata": {},
   "outputs": [],
   "source": []
  }
 ],
 "metadata": {
  "kernelspec": {
   "display_name": "Python 3",
   "language": "python",
   "name": "python3"
  },
  "language_info": {
   "codemirror_mode": {
    "name": "ipython",
    "version": 3
   },
   "file_extension": ".py",
   "mimetype": "text/x-python",
   "name": "python",
   "nbconvert_exporter": "python",
   "pygments_lexer": "ipython3",
   "version": "3.6.5"
  }
 },
 "nbformat": 4,
 "nbformat_minor": 4
}
