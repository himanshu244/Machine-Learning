{
 "cells": [
  {
   "cell_type": "code",
   "execution_count": null,
   "metadata": {},
   "outputs": [],
   "source": [
    "import pandas as pd\n",
    "import numpy as np\n",
    "model=pd.read_pickle(\"housing_v1\")"
   ]
  },
  {
   "cell_type": "code",
   "execution_count": 10,
   "metadata": {},
   "outputs": [],
   "source": [
    "from tkinter import *\n",
    "a=Tk()\n",
    "a.geometry(\"200x200\")\n",
    "lbl=Label(a)\n",
    "def func():\n",
    "    x=entrytext1.get()\n",
    "    y=entrytext2.get()\n",
    "    z=entrytext3.get()\n",
    "    t=entrytext4.get()\n",
    "    u=entrytext5.get()\n",
    "    k=np.array([x,y,z,t,u]).reshape((1,5))\n",
    "    d=pd.DataFrame(k,columns=['Avg. Area Income', 'Avg. Area House Age', 'Avg. Area Number of Rooms',\n",
    "                              'Avg. Area Number of Bedrooms', 'Area Population'])\n",
    "    p=model.predict(d)\n",
    "    r=\"Prediction of given model is \"+str(p)\n",
    "    lbl.config(text=r)\n",
    "    \n",
    "entryText1=IntVar()\n",
    "entryText2=IntVar()\n",
    "entryText3=IntVar()\n",
    "entryText4=IntVar()\n",
    "entryText5=IntVar()\n",
    "l=Label(a,text=\"Avg. Area Income\").place(x=20,y=20)\n",
    "e1=Entry(a,textvariable=entryText1).place(x=90,y=20)\n",
    "l2=Label(a,text=\"Avg. House Age\").place(x=20,y=50)\n",
    "e2=Entry(a,textvariable=entryText2).place(x=90,y=50)\n",
    "l3=Label(a,text=\"Avg. Number of Rooms\").place(x=20,y=80)\n",
    "e3=Entry(a,textvariable=entryText3).place(x=90,y=80)\n",
    "l4=Label(a,text=\"Avg. Number of Bedrooms\").place(x=20,y=110)\n",
    "e4=Entry(a,textvariable=entryText4).place(x=90,y=110)\n",
    "l5=Label(a,text=\"Area population\").place(x=20,y=140)\n",
    "e5=Entry(a,textvariable=entryText5).place(x=90,y=140)\n",
    "b=Button(a,text=\"submit\",bg=\"green\",fg=\"white\",command=func).place(x=20,y=170)\n",
    "lbl.pack()#empty label and it is filled when the function is called\n",
    "a.mainloop()"
   ]
  },
  {
   "cell_type": "code",
   "execution_count": null,
   "metadata": {},
   "outputs": [],
   "source": []
  }
 ],
 "metadata": {
  "kernelspec": {
   "display_name": "Python 3",
   "language": "python",
   "name": "python3"
  },
  "language_info": {
   "codemirror_mode": {
    "name": "ipython",
    "version": 3
   },
   "file_extension": ".py",
   "mimetype": "text/x-python",
   "name": "python",
   "nbconvert_exporter": "python",
   "pygments_lexer": "ipython3",
   "version": "3.6.5"
  }
 },
 "nbformat": 4,
 "nbformat_minor": 4
}
