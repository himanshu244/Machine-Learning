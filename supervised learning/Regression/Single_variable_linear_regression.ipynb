{
 "cells": [
  {
   "cell_type": "code",
   "execution_count": 1,
   "metadata": {},
   "outputs": [],
   "source": [
    "import pandas as pd\n",
    "import numpy as np\n",
    "df=pd.read_csv(\"Salary_Data.csv\")"
   ]
  },
  {
   "cell_type": "code",
   "execution_count": 2,
   "metadata": {},
   "outputs": [
    {
     "name": "stdout",
     "output_type": "stream",
     "text": [
      "<class 'pandas.core.frame.DataFrame'>\n",
      "RangeIndex: 30 entries, 0 to 29\n",
      "Data columns (total 2 columns):\n",
      " #   Column           Non-Null Count  Dtype  \n",
      "---  ------           --------------  -----  \n",
      " 0   YearsExperience  30 non-null     float64\n",
      " 1   Salary           30 non-null     float64\n",
      "dtypes: float64(2)\n",
      "memory usage: 608.0 bytes\n"
     ]
    }
   ],
   "source": [
    "df.info()"
   ]
  },
  {
   "cell_type": "code",
   "execution_count": 3,
   "metadata": {},
   "outputs": [
    {
     "data": {
      "text/html": [
       "<div>\n",
       "<style scoped>\n",
       "    .dataframe tbody tr th:only-of-type {\n",
       "        vertical-align: middle;\n",
       "    }\n",
       "\n",
       "    .dataframe tbody tr th {\n",
       "        vertical-align: top;\n",
       "    }\n",
       "\n",
       "    .dataframe thead th {\n",
       "        text-align: right;\n",
       "    }\n",
       "</style>\n",
       "<table border=\"1\" class=\"dataframe\">\n",
       "  <thead>\n",
       "    <tr style=\"text-align: right;\">\n",
       "      <th></th>\n",
       "      <th>YearsExperience</th>\n",
       "      <th>Salary</th>\n",
       "    </tr>\n",
       "  </thead>\n",
       "  <tbody>\n",
       "    <tr>\n",
       "      <th>0</th>\n",
       "      <td>1.1</td>\n",
       "      <td>39343.0</td>\n",
       "    </tr>\n",
       "    <tr>\n",
       "      <th>1</th>\n",
       "      <td>1.3</td>\n",
       "      <td>46205.0</td>\n",
       "    </tr>\n",
       "    <tr>\n",
       "      <th>2</th>\n",
       "      <td>1.5</td>\n",
       "      <td>37731.0</td>\n",
       "    </tr>\n",
       "    <tr>\n",
       "      <th>3</th>\n",
       "      <td>2.0</td>\n",
       "      <td>43525.0</td>\n",
       "    </tr>\n",
       "    <tr>\n",
       "      <th>4</th>\n",
       "      <td>2.2</td>\n",
       "      <td>39891.0</td>\n",
       "    </tr>\n",
       "  </tbody>\n",
       "</table>\n",
       "</div>"
      ],
      "text/plain": [
       "   YearsExperience   Salary\n",
       "0              1.1  39343.0\n",
       "1              1.3  46205.0\n",
       "2              1.5  37731.0\n",
       "3              2.0  43525.0\n",
       "4              2.2  39891.0"
      ]
     },
     "execution_count": 3,
     "metadata": {},
     "output_type": "execute_result"
    }
   ],
   "source": [
    "df.head()"
   ]
  },
  {
   "cell_type": "code",
   "execution_count": 13,
   "metadata": {},
   "outputs": [],
   "source": [
    "x=df.iloc[:,0:1]\n",
    "y=df.iloc[:,1:]"
   ]
  },
  {
   "cell_type": "markdown",
   "metadata": {},
   "source": [
    "# how to treat missing values "
   ]
  },
  {
   "cell_type": "code",
   "execution_count": null,
   "metadata": {},
   "outputs": [],
   "source": [
    "from sklearn.impute import SimpleImputer\n",
    "im=SimpleImputer(missing_values='NaN',strategy='mean')\n",
    "im=im.fit(x)\n",
    "x=im.transform(x)\n",
    "#x=im.fit_transform(x)"
   ]
  },
  {
   "cell_type": "markdown",
   "metadata": {},
   "source": [
    "# encoding(convert categorical data to numeric data)"
   ]
  },
  {
   "cell_type": "code",
   "execution_count": null,
   "metadata": {},
   "outputs": [],
   "source": [
    "from sklearn.preprocessing import LabelEncoder,OneHotEncoder\n",
    "le=LabelEncoder()#approach 1,2,3\n",
    "x=le.fit_transform(x)\n",
    "oh=OneHotEncoder(categories=[0])#approach get_dummies\n",
    "x=oh.fit_transform(x)"
   ]
  },
  {
   "cell_type": "markdown",
   "metadata": {},
   "source": [
    "# standard scaling"
   ]
  },
  {
   "cell_type": "code",
   "execution_count": null,
   "metadata": {},
   "outputs": [],
   "source": [
    "from sklearn.preprocessing import StandardScaler\n",
    "sc=StandardScaler()\n",
    "x=sc.fit_transform(x)"
   ]
  },
  {
   "cell_type": "markdown",
   "metadata": {},
   "source": [
    "# train test split"
   ]
  },
  {
   "cell_type": "code",
   "execution_count": 15,
   "metadata": {
    "scrolled": true
   },
   "outputs": [
    {
     "name": "stdout",
     "output_type": "stream",
     "text": [
      "    YearsExperience\n",
      "13              4.1\n",
      "27              9.6\n",
      "12              4.0\n",
      "1               1.3\n",
      "19              6.0\n",
      "14              4.5\n",
      "18              5.9\n",
      "6               3.0\n",
      "11              4.0\n",
      "23              8.2\n",
      "24              8.7\n",
      "28             10.3\n",
      "22              7.9\n",
      "10              3.9\n",
      "26              9.5\n",
      "29             10.5\n",
      "8               3.2\n",
      "25              9.0\n",
      "16              5.1\n",
      "17              5.3\n",
      "0               1.1\n",
      "15              4.9\n",
      "4               2.2\n",
      "9               3.7     YearsExperience\n",
      "20              6.8\n",
      "7               3.2\n",
      "5               2.9\n",
      "2               1.5\n",
      "3               2.0\n",
      "21              7.1       Salary\n",
      "13   57081.0\n",
      "27  112635.0\n",
      "12   56957.0\n",
      "1    46205.0\n",
      "19   93940.0\n",
      "14   61111.0\n",
      "18   81363.0\n",
      "6    60150.0\n",
      "11   55794.0\n",
      "23  113812.0\n",
      "24  109431.0\n",
      "28  122391.0\n",
      "22  101302.0\n",
      "10   63218.0\n",
      "26  116969.0\n",
      "29  121872.0\n",
      "8    64445.0\n",
      "25  105582.0\n",
      "16   66029.0\n",
      "17   83088.0\n",
      "0    39343.0\n",
      "15   67938.0\n",
      "4    39891.0\n",
      "9    57189.0      Salary\n",
      "20  91738.0\n",
      "7   54445.0\n",
      "5   56642.0\n",
      "2   37731.0\n",
      "3   43525.0\n",
      "21  98273.0\n"
     ]
    }
   ],
   "source": [
    "from sklearn.model_selection import train_test_split as tts\n",
    "x_train,x_test,y_train,y_test=tts(x,y,test_size=0.2,random_state=10)\n",
    "print(x_train,x_test,y_train,y_test)"
   ]
  },
  {
   "cell_type": "markdown",
   "metadata": {},
   "source": [
    "# Creating model(learning model)"
   ]
  },
  {
   "cell_type": "code",
   "execution_count": 16,
   "metadata": {},
   "outputs": [
    {
     "data": {
      "text/plain": [
       "LinearRegression()"
      ]
     },
     "execution_count": 16,
     "metadata": {},
     "output_type": "execute_result"
    }
   ],
   "source": [
    "from sklearn.linear_model import LinearRegression\n",
    "lr=LinearRegression()\n",
    "lr.fit(x_train,y_train)"
   ]
  },
  {
   "cell_type": "code",
   "execution_count": 19,
   "metadata": {},
   "outputs": [
    {
     "name": "stdout",
     "output_type": "stream",
     "text": [
      "[[89715.76498848]\n",
      " [56031.05821174]\n",
      " [53223.99931368]\n",
      " [40124.39112273]\n",
      " [44802.8226195 ]\n",
      " [92522.82388655]]     YearsExperience\n",
      "20              6.8\n",
      "7               3.2\n",
      "5               2.9\n",
      "2               1.5\n",
      "3               2.0\n",
      "21              7.1      Salary\n",
      "20  91738.0\n",
      "7   54445.0\n",
      "5   56642.0\n",
      "2   37731.0\n",
      "3   43525.0\n",
      "21  98273.0\n"
     ]
    }
   ],
   "source": [
    "h=lr.predict(x_test)#doing prediction\n",
    "print(h,x_test,y_test)"
   ]
  },
  {
   "cell_type": "code",
   "execution_count": 20,
   "metadata": {},
   "outputs": [
    {
     "data": {
      "image/png": "[encoded data removed]",
      "text/plain": [
       "<Figure size 432x288 with 1 Axes>"
      ]
     },
     "metadata": {
      "needs_background": "light"
     },
     "output_type": "display_data"
    }
   ],
   "source": [
    "import matplotlib.pyplot as plt\n",
    "plt.scatter(x_test,y_test)\n",
    "plt.plot(x_test,h)\n",
    "plt.show()"
   ]
  },
  {
   "cell_type": "code",
   "execution_count": 21,
   "metadata": {},
   "outputs": [
    {
     "name": "stdout",
     "output_type": "stream",
     "text": [
      "    YearsExperience\n",
      "13              4.1\n",
      "27              9.6\n",
      "12              4.0\n",
      "1               1.3\n",
      "19              6.0\n",
      "14              4.5\n",
      "18              5.9\n",
      "6               3.0\n",
      "11              4.0\n",
      "23              8.2\n",
      "24              8.7\n",
      "28             10.3\n",
      "22              7.9\n",
      "10              3.9\n",
      "26              9.5\n",
      "29             10.5\n",
      "8               3.2\n",
      "25              9.0\n",
      "16              5.1\n",
      "17              5.3\n",
      "0               1.1\n",
      "15              4.9\n",
      "4               2.2\n",
      "9               3.7 [[ 64452.23490593]\n",
      " [115914.98137039]\n",
      " [ 63516.54860657]\n",
      " [ 38253.01852402]\n",
      " [ 82230.27459365]\n",
      " [ 68194.98010334]\n",
      " [ 81294.5882943 ]\n",
      " [ 54159.68561303]\n",
      " [ 63516.54860657]\n",
      " [102815.37317944]\n",
      " [107493.80467621]\n",
      " [122464.78546587]\n",
      " [100008.31428138]\n",
      " [ 62580.86230722]\n",
      " [114979.29507104]\n",
      " [124336.15806458]\n",
      " [ 56031.05821174]\n",
      " [110300.86357427]\n",
      " [ 73809.09789947]\n",
      " [ 75680.47049818]\n",
      " [ 36381.64592531]\n",
      " [ 71937.72530076]\n",
      " [ 46674.1952182 ]\n",
      " [ 60709.48970851]]       Salary\n",
      "13   57081.0\n",
      "27  112635.0\n",
      "12   56957.0\n",
      "1    46205.0\n",
      "19   93940.0\n",
      "14   61111.0\n",
      "18   81363.0\n",
      "6    60150.0\n",
      "11   55794.0\n",
      "23  113812.0\n",
      "24  109431.0\n",
      "28  122391.0\n",
      "22  101302.0\n",
      "10   63218.0\n",
      "26  116969.0\n",
      "29  121872.0\n",
      "8    64445.0\n",
      "25  105582.0\n",
      "16   66029.0\n",
      "17   83088.0\n",
      "0    39343.0\n",
      "15   67938.0\n",
      "4    39891.0\n",
      "9    57189.0\n"
     ]
    }
   ],
   "source": [
    "k=lr.predict(x_train)\n",
    "print(x_train,k,y_train)"
   ]
  },
  {
   "cell_type": "code",
   "execution_count": 22,
   "metadata": {},
   "outputs": [
    {
     "data": {
      "image/png": "[encoded data removed]",
      "text/plain": [
       "<Figure size 432x288 with 1 Axes>"
      ]
     },
     "metadata": {
      "needs_background": "light"
     },
     "output_type": "display_data"
    }
   ],
   "source": [
    "plt.scatter(x_train,y_train)\n",
    "plt.plot(x_train,k)\n",
    "plt.show()"
   ]
  },
  {
   "cell_type": "code",
   "execution_count": 24,
   "metadata": {},
   "outputs": [
    {
     "data": {
      "text/plain": [
       "0.9816423482070253"
      ]
     },
     "execution_count": 24,
     "metadata": {},
     "output_type": "execute_result"
    }
   ],
   "source": [
    "lr.score(x_test,y_test)#accuracy of prediction"
   ]
  },
  {
   "cell_type": "code",
   "execution_count": 25,
   "metadata": {},
   "outputs": [
    {
     "data": {
      "text/plain": [
       "3128.189594464235"
      ]
     },
     "execution_count": 25,
     "metadata": {},
     "output_type": "execute_result"
    }
   ],
   "source": [
    "from sklearn import metrics\n",
    "np.sqrt(metrics.mean_squared_error(y_test,h))#cost func"
   ]
  },
  {
   "cell_type": "code",
   "execution_count": null,
   "metadata": {},
   "outputs": [],
   "source": []
  }
 ],
 "metadata": {
  "kernelspec": {
   "display_name": "Python 3",
   "language": "python",
   "name": "python3"
  },
  "language_info": {
   "codemirror_mode": {
    "name": "ipython",
    "version": 3
   },
   "file_extension": ".py",
   "mimetype": "text/x-python",
   "name": "python",
   "nbconvert_exporter": "python",
   "pygments_lexer": "ipython3",
   "version": "3.6.5"
  }
 },
 "nbformat": 4,
 "nbformat_minor": 4
}
